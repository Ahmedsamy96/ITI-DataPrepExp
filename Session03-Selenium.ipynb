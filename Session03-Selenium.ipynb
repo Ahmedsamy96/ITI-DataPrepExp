{
 "cells": [
  {
   "cell_type": "markdown",
   "metadata": {},
   "source": [
    "<img src=\"https://drive.google.com/uc?id=1v7YY_rNBU2OMaPnbUGmzaBj3PUeddxrw\" alt=\"ITI MCIT EPITA\" style=\"width: 750px;\"/>\n",
    "\n",
    "___"
   ]
  },
  {
   "cell_type": "markdown",
   "metadata": {},
   "source": [
    "# Data Preparation & Exploration\n",
    "\n",
    "**By**: Mohamed Fouad Fakhruldeen, mohamed.fakhruldeen@epita.fr\n",
    "____\n",
    "\n",
    "## Session 03"
   ]
  },
  {
   "cell_type": "markdown",
   "metadata": {},
   "source": [
    "#### Topics: \n",
    "\n",
    "* Presentation of rest services \n",
    "* Dealing with remote json content fetching\n",
    "* Connecting to websites and fetching raw content \n",
    "* Connect to websites using selenium headless (python) or HTML Unit (java) \n",
    "* Integration is performed through Orange studio."
   ]
  },
  {
   "cell_type": "markdown",
   "metadata": {},
   "source": [
    "### Web Service"
   ]
  },
  {
   "cell_type": "markdown",
   "metadata": {},
   "source": [
    "Simply put, a web service is a resource that’s made available over the internet. Therefore, web services, by definition, require a network. The term “web service” is defined by W3C (the World Wide Web Consortium) and so it technically follows a whole host of standards.\n",
    "\n",
    "    A Web service is a software system designed to support interoperable machine-to-machine interaction over a network. It has an interface described in a machine-processable format (specifically WSDL). Other systems interact with the Web service in a manner prescribed by its description using SOAP-messages, typically conveyed using HTTP with an XML serialization in conjunction with other Web-related standards.\n",
    "    \n",
    "    \n",
    "        SOAP (Simple Object Access Protocol)\n",
    "        UDDI (Universal Description, Discovery and Integration)\n",
    "        WSDL (Web Services Description Language)\n",
    "        \n",
    "\n",
    "web services are not API, and it supports only XML"
   ]
  },
  {
   "cell_type": "markdown",
   "metadata": {},
   "source": [
    "### Application Programming Interface (API)"
   ]
  },
  {
   "cell_type": "markdown",
   "metadata": {},
   "source": [
    "APIs enables communication and data exchange between two separate software systems\n",
    "\n",
    "A SW system implementing an API, contains functions which can be executed by another SW system.\n",
    "Structured request, and structured response\n",
    "\n",
    "Ex. Web services, one category of APIs, bring the Web beyond links from one page to another, and beyond pages for humans to read. Instead, they allow us to exchange structured data across the Web and provide a coherent way for our applications to request data in rich, programmatic ways"
   ]
  },
  {
   "cell_type": "markdown",
   "metadata": {},
   "source": [
    "    When you log into a website using your Facebook profile\n",
    "    When you switch on Netflix and see dozens of new movies flood the screen\n",
    "    When you look for flights on Google\n",
    "    \n",
    "    \n",
    "supports XML and JSON "
   ]
  },
  {
   "cell_type": "markdown",
   "metadata": {},
   "source": [
    "    APIs enables communication and data exchange between two separate software systems\n",
    "    A SW system implementing an API, contains functions which can be executed by another SW system.\n",
    "    Structured request, and structured response\n",
    "Ex. Web services, one category of APIs, bring the Web beyond links from one page to another, and beyond pages for humans to read. Instead, they allow us to exchange structured data across the Web and provide a coherent way for our applications to request data in rich, programmatic ways"
   ]
  },
  {
   "cell_type": "markdown",
   "metadata": {},
   "source": [
    "### Data Collection through code"
   ]
  },
  {
   "cell_type": "markdown",
   "metadata": {},
   "source": [
    "    Web services and APIs are an important source of data.\n",
    "    Clients need to programmatically access data\n",
    "    Requests over local web applications and Databases\n",
    "\n",
    "    Send and Receive data\n",
    "    Send Authorization/Authentication Information\n",
    "    Cookies and authorization token for multiple requests to same server"
   ]
  },
  {
   "cell_type": "markdown",
   "metadata": {},
   "source": [
    "### Data Scraping"
   ]
  },
  {
   "cell_type": "markdown",
   "metadata": {},
   "source": [
    "    HTML scraping\n",
    "    HTML forms\n",
    "\n",
    "SW can be programmed to access data the same way human user would do.\n",
    "\n",
    "We need to navigate the large amount of formatting information that is used to display the data (and other content) in a Web browser\n"
   ]
  },
  {
   "cell_type": "markdown",
   "metadata": {},
   "source": [
    "### REST Service"
   ]
  },
  {
   "cell_type": "markdown",
   "metadata": {},
   "source": [
    "REpresentational State Transfer, a SW architecture standard for communication between web services\n",
    "\n",
    "REST leverages URLs as identifiers of resources which we can also think of as functions operating on data\n",
    "\n",
    "REST API can be used by any site or application no matter what language it is written in because the requests are based on the universal HTTP protocol, and the information is usually returned in the JSON format that almost all of the programming languages can read."
   ]
  },
  {
   "cell_type": "markdown",
   "metadata": {},
   "source": [
    "Two other approaches to Web services that are still in use, but are being dominated by REST, are XML-RPC and SOAP.\n",
    "\n",
    "Web Services, Anonymous access for public data, registration token might be needed to monitor who is accessing, and access private data (OAuth)"
   ]
  },
  {
   "cell_type": "markdown",
   "metadata": {},
   "source": [
    "Web service APIs that adhere to the REST architectural constraints are called RESTful APIs.\n",
    "Besides a main component for an API, the URL, another component is the standard HTML methods:"
   ]
  },
  {
   "cell_type": "code",
   "execution_count": 6,
   "metadata": {},
   "outputs": [
    {
     "name": "stdout",
     "output_type": "stream",
     "text": [
      "{\"cod\":\"200\",\"message\":0,\"cnt\":40,\"list\":[{\"dt\":1618617600,\"main\":{\"temp\":294.05,\"feels_like\":293.16,\"temp_min\":294.05,\"temp_max\":294.65,\"pressure\":1014,\"sea_level\":1014,\"grnd_level\":1011,\"humidity\":37,\"temp_kf\":-0.6},\"weather\":[{\"id\":800,\"main\":\"Clear\",\"description\":\"clear sky\",\"icon\":\"01n\"}],\"clouds\":{\"all\":0},\"wind\":{\"speed\":3.77,\"deg\":57,\"gust\":9.03},\"visibility\":10000,\"pop\":0,\"sys\":{\"pod\":\"n\"},\"dt_txt\":\"2021-04-17 00:00:00\"},{\"dt\":1618628400,\"main\":{\"temp\":293.96,\"feels_like\":292.98,\"temp_min\":293.78,\"temp_max\":293.96,\"pressure\":1014,\"sea_level\":1014,\"grnd_level\":1011,\"humidity\":34,\"temp_kf\":0.18},\"weather\":[{\"id\":800,\"main\":\"Clear\",\"description\":\"clear sky\",\"icon\":\"01n\"}],\"clouds\":{\"all\":1},\"wind\":{\"speed\":3.17,\"deg\":49,\"gust\":8.35},\"visibility\":10000,\"pop\":0,\"sys\":{\"pod\":\"n\"},\"dt_txt\":\"2021-04-17 03:00:00\"},{\"dt\":1618639200,\"main\":{\"temp\":297.48,\"feels_like\":296.57,\"temp_min\":297.48,\"temp_max\":299.2,\"pressure\":1015,\"sea_level\":1015,\"grnd_level\":1012,\"humidity\":23,\"temp_kf\":-1.72},\"weather\":[{\"id\":800,\"main\":\"Clear\",\"description\":\"clear sky\",\"icon\":\"01d\"}],\"clouds\":{\"all\":1},\"wind\":{\"speed\":5.31,\"deg\":67,\"gust\":9.48},\"visibility\":10000,\"pop\":0,\"sys\":{\"pod\":\"d\"},\"dt_txt\":\"2021-04-17 06:00:00\"},{\"dt\":1618650000,\"main\":{\"temp\":306.14,\"feels_like\":303.75,\"temp_min\":306.14,\"temp_max\":306.14,\"pressure\":1014,\"sea_level\":1014,\"grnd_level\":1011,\"humidity\":9,\"temp_kf\":0},\"weather\":[{\"id\":800,\"main\":\"Clear\",\"description\":\"clear sky\",\"icon\":\"01d\"}],\"clouds\":{\"all\":0},\"wind\":{\"speed\":6.52,\"deg\":54,\"gust\":7.75},\"visibility\":10000,\"pop\":0,\"sys\":{\"pod\":\"d\"},\"dt_txt\":\"2021-04-17 09:00:00\"},{\"dt\":1618660800,\"main\":{\"temp\":308.9,\"feels_like\":306.09,\"temp_min\":308.9,\"temp_max\":308.9,\"pressure\":1012,\"sea_level\":1012,\"grnd_level\":1009,\"humidity\":8,\"temp_kf\":0},\"weather\":[{\"id\":800,\"main\":\"Clear\",\"description\":\"clear sky\",\"icon\":\"01d\"}],\"clouds\":{\"all\":1},\"wind\":{\"speed\":7.21,\"deg\":52,\"gust\":7.7},\"visibility\":10000,\"pop\":0,\"sys\":{\"pod\":\"d\"},\"dt_txt\":\"2021-04-17 12:00:00\"},{\"dt\":1618671600,\"main\":{\"temp\":307.25,\"feels_like\":304.69,\"temp_min\":307.25,\"temp_max\":307.25,\"pressure\":1012,\"sea_level\":1012,\"grnd_level\":1009,\"humidity\":9,\"temp_kf\":0},\"weather\":[{\"id\":802,\"main\":\"Clouds\",\"description\":\"scattered clouds\",\"icon\":\"03d\"}],\"clouds\":{\"all\":33},\"wind\":{\"speed\":7.99,\"deg\":50,\"gust\":7.85},\"visibility\":10000,\"pop\":0,\"sys\":{\"pod\":\"d\"},\"dt_txt\":\"2021-04-17 15:00:00\"},{\"dt\":1618682400,\"main\":{\"temp\":300.27,\"feels_like\":299.34,\"temp_min\":300.27,\"temp_max\":300.27,\"pressure\":1014,\"sea_level\":1014,\"grnd_level\":1012,\"humidity\":21,\"temp_kf\":0},\"weather\":[{\"id\":801,\"main\":\"Clouds\",\"description\":\"few clouds\",\"icon\":\"02n\"}],\"clouds\":{\"all\":21},\"wind\":{\"speed\":6.33,\"deg\":45,\"gust\":10.34},\"visibility\":10000,\"pop\":0,\"sys\":{\"pod\":\"n\"},\"dt_txt\":\"2021-04-17 18:00:00\"},{\"dt\":1618693200,\"main\":{\"temp\":297.27,\"feels_like\":296.6,\"temp_min\":297.27,\"temp_max\":297.27,\"pressure\":1015,\"sea_level\":1015,\"grnd_level\":1012,\"humidity\":33,\"temp_kf\":0},\"weather\":[{\"id\":800,\"main\":\"Clear\",\"description\":\"clear sky\",\"icon\":\"01n\"}],\"clouds\":{\"all\":3},\"wind\":{\"speed\":5.14,\"deg\":61,\"gust\":10.77},\"visibility\":10000,\"pop\":0,\"sys\":{\"pod\":\"n\"},\"dt_txt\":\"2021-04-17 21:00:00\"},{\"dt\":1618704000,\"main\":{\"temp\":296.95,\"feels_like\":296.17,\"temp_min\":296.95,\"temp_max\":296.95,\"pressure\":1013,\"sea_level\":1013,\"grnd_level\":1010,\"humidity\":30,\"temp_kf\":0},\"weather\":[{\"id\":800,\"main\":\"Clear\",\"description\":\"clear sky\",\"icon\":\"01n\"}],\"clouds\":{\"all\":3},\"wind\":{\"speed\":4.71,\"deg\":85,\"gust\":11.76},\"visibility\":10000,\"pop\":0,\"sys\":{\"pod\":\"n\"},\"dt_txt\":\"2021-04-18 00:00:00\"},{\"dt\":1618714800,\"main\":{\"temp\":296.91,\"feels_like\":295.94,\"temp_min\":296.91,\"temp_max\":296.91,\"pressure\":1013,\"sea_level\":1013,\"grnd_level\":1010,\"humidity\":23,\"temp_kf\":0},\"weather\":[{\"id\":800,\"main\":\"Clear\",\"description\":\"clear sky\",\"icon\":\"01n\"}],\"clouds\":{\"all\":0},\"wind\":{\"speed\":2.42,\"deg\":24,\"gust\":3.83},\"visibility\":10000,\"pop\":0,\"sys\":{\"pod\":\"n\"},\"dt_txt\":\"2021-04-18 03:00:00\"},{\"dt\":1618725600,\"main\":{\"temp\":302.38,\"feels_like\":300.7,\"temp_min\":302.38,\"temp_max\":302.38,\"pressure\":1014,\"sea_level\":1014,\"grnd_level\":1011,\"humidity\":15,\"temp_kf\":0},\"weather\":[{\"id\":800,\"main\":\"Clear\",\"description\":\"clear sky\",\"icon\":\"01d\"}],\"clouds\":{\"all\":1},\"wind\":{\"speed\":1.99,\"deg\":91,\"gust\":4.28},\"visibility\":10000,\"pop\":0,\"sys\":{\"pod\":\"d\"},\"dt_txt\":\"2021-04-18 06:00:00\"},{\"dt\":1618736400,\"main\":{\"temp\":310.57,\"feels_like\":307.54,\"temp_min\":310.57,\"temp_max\":310.57,\"pressure\":1013,\"sea_level\":1013,\"grnd_level\":1010,\"humidity\":8,\"temp_kf\":0},\"weather\":[{\"id\":800,\"main\":\"Clear\",\"description\":\"clear sky\",\"icon\":\"01d\"}],\"clouds\":{\"all\":0},\"wind\":{\"speed\":2.26,\"deg\":187,\"gust\":3.99},\"visibility\":10000,\"pop\":0,\"sys\":{\"pod\":\"d\"},\"dt_txt\":\"2021-04-18 09:00:00\"},{\"dt\":1618747200,\"main\":{\"temp\":313.59,\"feels_like\":309.81,\"temp_min\":313.59,\"temp_max\":313.59,\"pressure\":1010,\"sea_level\":1010,\"grnd_level\":1008,\"humidity\":5,\"temp_kf\":0},\"weather\":[{\"id\":800,\"main\":\"Clear\",\"description\":\"clear sky\",\"icon\":\"01d\"}],\"clouds\":{\"all\":0},\"wind\":{\"speed\":1.55,\"deg\":199,\"gust\":2.85},\"visibility\":10000,\"pop\":0,\"sys\":{\"pod\":\"d\"},\"dt_txt\":\"2021-04-18 12:00:00\"},{\"dt\":1618758000,\"main\":{\"temp\":313.71,\"feels_like\":309.91,\"temp_min\":313.71,\"temp_max\":313.71,\"pressure\":1009,\"sea_level\":1009,\"grnd_level\":1006,\"humidity\":5,\"temp_kf\":0},\"weather\":[{\"id\":800,\"main\":\"Clear\",\"description\":\"clear sky\",\"icon\":\"01d\"}],\"clouds\":{\"all\":0},\"wind\":{\"speed\":0.47,\"deg\":350,\"gust\":1.43},\"visibility\":10000,\"pop\":0,\"sys\":{\"pod\":\"d\"},\"dt_txt\":\"2021-04-18 15:00:00\"},{\"dt\":1618768800,\"main\":{\"temp\":305.87,\"feels_like\":303.58,\"temp_min\":305.87,\"temp_max\":305.87,\"pressure\":1011,\"sea_level\":1011,\"grnd_level\":1008,\"humidity\":15,\"temp_kf\":0},\"weather\":[{\"id\":800,\"main\":\"Clear\",\"description\":\"clear sky\",\"icon\":\"01n\"}],\"clouds\":{\"all\":1},\"wind\":{\"speed\":5.03,\"deg\":77,\"gust\":8.58},\"visibility\":10000,\"pop\":0,\"sys\":{\"pod\":\"n\"},\"dt_txt\":\"2021-04-18 18:00:00\"},{\"dt\":1618779600,\"main\":{\"temp\":304.18,\"feels_like\":302.16,\"temp_min\":304.18,\"temp_max\":304.18,\"pressure\":1011,\"sea_level\":1011,\"grnd_level\":1008,\"humidity\":17,\"temp_kf\":0},\"weather\":[{\"id\":803,\"main\":\"Clouds\",\"description\":\"broken clouds\",\"icon\":\"04n\"}],\"clouds\":{\"all\":69},\"wind\":{\"speed\":1.93,\"deg\":108,\"gust\":2.47},\"visibility\":10000,\"pop\":0,\"sys\":{\"pod\":\"n\"},\"dt_txt\":\"2021-04-18 21:00:00\"},{\"dt\":1618790400,\"main\":{\"temp\":303.23,\"feels_like\":301.35,\"temp_min\":303.23,\"temp_max\":303.23,\"pressure\":1010,\"sea_level\":1010,\"grnd_level\":1007,\"humidity\":15,\"temp_kf\":0},\"weather\":[{\"id\":803,\"main\":\"Clouds\",\"description\":\"broken clouds\",\"icon\":\"04n\"}],\"clouds\":{\"all\":67},\"wind\":{\"speed\":2.18,\"deg\":176,\"gust\":2.42},\"visibility\":10000,\"pop\":0,\"sys\":{\"pod\":\"n\"},\"dt_txt\":\"2021-04-19 00:00:00\"},{\"dt\":1618801200,\"main\":{\"temp\":302.2,\"feels_like\":300.57,\"temp_min\":302.2,\"temp_max\":302.2,\"pressure\":1010,\"sea_level\":1010,\"grnd_level\":1007,\"humidity\":16,\"temp_kf\":0},\"weather\":[{\"id\":803,\"main\":\"Clouds\",\"description\":\"broken clouds\",\"icon\":\"04n\"}],\"clouds\":{\"all\":77},\"wind\":{\"speed\":2.84,\"deg\":169,\"gust\":3.18},\"visibility\":10000,\"pop\":0,\"sys\":{\"pod\":\"n\"},\"dt_txt\":\"2021-04-19 03:00:00\"},{\"dt\":1618812000,\"main\":{\"temp\":305.7,\"feels_like\":303.38,\"temp_min\":305.7,\"temp_max\":305.7,\"pressure\":1010,\"sea_level\":1010,\"grnd_level\":1008,\"humidity\":13,\"temp_kf\":0},\"weather\":[{\"id\":803,\"main\":\"Clouds\",\"description\":\"broken clouds\",\"icon\":\"04d\"}],\"clouds\":{\"all\":80},\"wind\":{\"speed\":5.99,\"deg\":190,\"gust\":10.37},\"visibility\":10000,\"pop\":0,\"sys\":{\"pod\":\"d\"},\"dt_txt\":\"2021-04-19 06:00:00\"},{\"dt\":1618822800,\"main\":{\"temp\":312.84,\"feels_like\":309.55,\"temp_min\":312.84,\"temp_max\":312.84,\"pressure\":1009,\"sea_level\":1009,\"grnd_level\":1007,\"humidity\":8,\"temp_kf\":0},\"weather\":[{\"id\":804,\"main\":\"Clouds\",\"description\":\"overcast clouds\",\"icon\":\"04d\"}],\"clouds\":{\"all\":98},\"wind\":{\"speed\":7.63,\"deg\":201,\"gust\":10.1},\"visibility\":10000,\"pop\":0,\"sys\":{\"pod\":\"d\"},\"dt_txt\":\"2021-04-19 09:00:00\"},{\"dt\":1618833600,\"main\":{\"temp\":314.75,\"feels_like\":311.08,\"temp_min\":314.75,\"temp_max\":314.75,\"pressure\":1008,\"sea_level\":1008,\"grnd_level\":1005,\"humidity\":7,\"temp_kf\":0},\"weather\":[{\"id\":804,\"main\":\"Clouds\",\"description\":\"overcast clouds\",\"icon\":\"04d\"}],\"clouds\":{\"all\":99},\"wind\":{\"speed\":7.54,\"deg\":212,\"gust\":8.68},\"visibility\":10000,\"pop\":0,\"sys\":{\"pod\":\"d\"},\"dt_txt\":\"2021-04-19 12:00:00\"},{\"dt\":1618844400,\"main\":{\"temp\":313.32,\"feels_like\":309.98,\"temp_min\":313.32,\"temp_max\":313.32,\"pressure\":1007,\"sea_level\":1007,\"grnd_level\":1004,\"humidity\":8,\"temp_kf\":0},\"weather\":[{\"id\":804,\"main\":\"Clouds\",\"description\":\"overcast clouds\",\"icon\":\"04d\"}],\"clouds\":{\"all\":100},\"wind\":{\"speed\":6.23,\"deg\":255,\"gust\":7.87},\"visibility\":10000,\"pop\":0,\"sys\":{\"pod\":\"d\"},\"dt_txt\":\"2021-04-19 15:00:00\"},{\"dt\":1618855200,\"main\":{\"temp\":300.54,\"feels_like\":300.05,\"temp_min\":300.54,\"temp_max\":300.54,\"pressure\":1011,\"sea_level\":1011,\"grnd_level\":1008,\"humidity\":35,\"temp_kf\":0},\"weather\":[{\"id\":804,\"main\":\"Clouds\",\"description\":\"overcast clouds\",\"icon\":\"04n\"}],\"clouds\":{\"all\":100},\"wind\":{\"speed\":7.24,\"deg\":332,\"gust\":8.99},\"visibility\":10000,\"pop\":0,\"sys\":{\"pod\":\"n\"},\"dt_txt\":\"2021-04-19 18:00:00\"},{\"dt\":1618866000,\"main\":{\"temp\":295.44,\"feels_like\":295.16,\"temp_min\":295.44,\"temp_max\":295.44,\"pressure\":1012,\"sea_level\":1012,\"grnd_level\":1009,\"humidity\":55,\"temp_kf\":0},\"weather\":[{\"id\":804,\"main\":\"Clouds\",\"description\":\"overcast clouds\",\"icon\":\"04n\"}],\"clouds\":{\"all\":100},\"wind\":{\"speed\":6.72,\"deg\":336,\"gust\":8.53},\"visibility\":10000,\"pop\":0,\"sys\":{\"pod\":\"n\"},\"dt_txt\":\"2021-04-19 21:00:00\"},{\"dt\":1618876800,\"main\":{\"temp\":292.47,\"feels_like\":292.26,\"temp_min\":292.47,\"temp_max\":292.47,\"pressure\":1013,\"sea_level\":1013,\"grnd_level\":1010,\"humidity\":69,\"temp_kf\":0},\"weather\":[{\"id\":804,\"main\":\"Clouds\",\"description\":\"overcast clouds\",\"icon\":\"04n\"}],\"clouds\":{\"all\":96},\"wind\":{\"speed\":7.19,\"deg\":347,\"gust\":10.83},\"visibility\":10000,\"pop\":0,\"sys\":{\"pod\":\"n\"},\"dt_txt\":\"2021-04-20 00:00:00\"},{\"dt\":1618887600,\"main\":{\"temp\":291.55,\"feels_like\":291.25,\"temp_min\":291.55,\"temp_max\":291.55,\"pressure\":1014,\"sea_level\":1014,\"grnd_level\":1011,\"humidity\":69,\"temp_kf\":0},\"weather\":[{\"id\":804,\"main\":\"Clouds\",\"description\":\"overcast clouds\",\"icon\":\"04n\"}],\"clouds\":{\"all\":93},\"wind\":{\"speed\":6.19,\"deg\":3,\"gust\":10.13},\"visibility\":10000,\"pop\":0,\"sys\":{\"pod\":\"n\"},\"dt_txt\":\"2021-04-20 03:00:00\"},{\"dt\":1618898400,\"main\":{\"temp\":293.67,\"feels_like\":293.19,\"temp_min\":293.67,\"temp_max\":293.67,\"pressure\":1016,\"sea_level\":1016,\"grnd_level\":1013,\"humidity\":54,\"temp_kf\":0},\"weather\":[{\"id\":803,\"main\":\"Clouds\",\"description\":\"broken clouds\",\"icon\":\"04d\"}],\"clouds\":{\"all\":80},\"wind\":{\"speed\":6.61,\"deg\":5,\"gust\":8.13},\"visibility\":10000,\"pop\":0,\"sys\":{\"pod\":\"d\"},\"dt_txt\":\"2021-04-20 06:00:00\"},{\"dt\":1618909200,\"main\":{\"temp\":300.72,\"feels_like\":299.72,\"temp_min\":300.72,\"temp_max\":300.72,\"pressure\":1015,\"sea_level\":1015,\"grnd_level\":1012,\"humidity\":24,\"temp_kf\":0},\"weather\":[{\"id\":800,\"main\":\"Clear\",\"description\":\"clear sky\",\"icon\":\"01d\"}],\"clouds\":{\"all\":0},\"wind\":{\"speed\":6.29,\"deg\":16,\"gust\":6.95},\"visibility\":10000,\"pop\":0,\"sys\":{\"pod\":\"d\"},\"dt_txt\":\"2021-04-20 09:00:00\"},{\"dt\":1618920000,\"main\":{\"temp\":305.28,\"feels_like\":303.08,\"temp_min\":305.28,\"temp_max\":305.28,\"pressure\":1012,\"sea_level\":1012,\"grnd_level\":1010,\"humidity\":16,\"temp_kf\":0},\"weather\":[{\"id\":800,\"main\":\"Clear\",\"description\":\"clear sky\",\"icon\":\"01d\"}],\"clouds\":{\"all\":0},\"wind\":{\"speed\":6.06,\"deg\":12,\"gust\":6.15},\"visibility\":10000,\"pop\":0,\"sys\":{\"pod\":\"d\"},\"dt_txt\":\"2021-04-20 12:00:00\"},{\"dt\":1618930800,\"main\":{\"temp\":303.32,\"feels_like\":301.53,\"temp_min\":303.32,\"temp_max\":303.32,\"pressure\":1013,\"sea_level\":1013,\"grnd_level\":1010,\"humidity\":20,\"temp_kf\":0},\"weather\":[{\"id\":800,\"main\":\"Clear\",\"description\":\"clear sky\",\"icon\":\"01d\"}],\"clouds\":{\"all\":0},\"wind\":{\"speed\":8.67,\"deg\":9,\"gust\":7.46},\"visibility\":10000,\"pop\":0,\"sys\":{\"pod\":\"d\"},\"dt_txt\":\"2021-04-20 15:00:00\"},{\"dt\":1618941600,\"main\":{\"temp\":294.56,\"feels_like\":293.77,\"temp_min\":294.56,\"temp_max\":294.56,\"pressure\":1016,\"sea_level\":1016,\"grnd_level\":1013,\"humidity\":39,\"temp_kf\":0},\"weather\":[{\"id\":800,\"main\":\"Clear\",\"description\":\"clear sky\",\"icon\":\"01n\"}],\"clouds\":{\"all\":0},\"wind\":{\"speed\":8.39,\"deg\":21,\"gust\":9.85},\"visibility\":10000,\"pop\":0,\"sys\":{\"pod\":\"n\"},\"dt_txt\":\"2021-04-20 18:00:00\"},{\"dt\":1618952400,\"main\":{\"temp\":290.73,\"feels_like\":290.19,\"temp_min\":290.73,\"temp_max\":290.73,\"pressure\":1018,\"sea_level\":1018,\"grnd_level\":1015,\"humidity\":63,\"temp_kf\":0},\"weather\":[{\"id\":800,\"main\":\"Clear\",\"description\":\"clear sky\",\"icon\":\"01n\"}],\"clouds\":{\"all\":1},\"wind\":{\"speed\":6.8,\"deg\":12,\"gust\":8.98},\"visibility\":10000,\"pop\":0,\"sys\":{\"pod\":\"n\"},\"dt_txt\":\"2021-04-20 21:00:00\"},{\"dt\":1618963200,\"main\":{\"temp\":289.01,\"feels_like\":288.51,\"temp_min\":289.01,\"temp_max\":289.01,\"pressure\":1017,\"sea_level\":1017,\"grnd_level\":1014,\"humidity\":71,\"temp_kf\":0},\"weather\":[{\"id\":800,\"main\":\"Clear\",\"description\":\"clear sky\",\"icon\":\"01n\"}],\"clouds\":{\"all\":1},\"wind\":{\"speed\":5.58,\"deg\":15,\"gust\":7.79},\"visibility\":10000,\"pop\":0,\"sys\":{\"pod\":\"n\"},\"dt_txt\":\"2021-04-21 00:00:00\"},{\"dt\":1618974000,\"main\":{\"temp\":287.87,\"feels_like\":287.41,\"temp_min\":287.87,\"temp_max\":287.87,\"pressure\":1017,\"sea_level\":1017,\"grnd_level\":1014,\"humidity\":77,\"temp_kf\":0},\"weather\":[{\"id\":800,\"main\":\"Clear\",\"description\":\"clear sky\",\"icon\":\"01n\"}],\"clouds\":{\"all\":4},\"wind\":{\"speed\":5.64,\"deg\":21,\"gust\":8.25},\"visibility\":10000,\"pop\":0,\"sys\":{\"pod\":\"n\"},\"dt_txt\":\"2021-04-21 03:00:00\"},{\"dt\":1618984800,\"main\":{\"temp\":291.16,\"feels_like\":290.48,\"temp_min\":291.16,\"temp_max\":291.16,\"pressure\":1018,\"sea_level\":1018,\"grnd_level\":1015,\"humidity\":56,\"temp_kf\":0},\"weather\":[{\"id\":802,\"main\":\"Clouds\",\"description\":\"scattered clouds\",\"icon\":\"03d\"}],\"clouds\":{\"all\":25},\"wind\":{\"speed\":6.7,\"deg\":32,\"gust\":8.36},\"visibility\":10000,\"pop\":0,\"sys\":{\"pod\":\"d\"},\"dt_txt\":\"2021-04-21 06:00:00\"},{\"dt\":1618995600,\"main\":{\"temp\":298.31,\"feels_like\":297.51,\"temp_min\":298.31,\"temp_max\":298.31,\"pressure\":1017,\"sea_level\":1017,\"grnd_level\":1014,\"humidity\":24,\"temp_kf\":0},\"weather\":[{\"id\":804,\"main\":\"Clouds\",\"description\":\"overcast clouds\",\"icon\":\"04d\"}],\"clouds\":{\"all\":90},\"wind\":{\"speed\":6.31,\"deg\":32,\"gust\":7.13},\"visibility\":10000,\"pop\":0,\"sys\":{\"pod\":\"d\"},\"dt_txt\":\"2021-04-21 09:00:00\"},{\"dt\":1619006400,\"main\":{\"temp\":303.18,\"feels_like\":301.31,\"temp_min\":303.18,\"temp_max\":303.18,\"pressure\":1015,\"sea_level\":1015,\"grnd_level\":1012,\"humidity\":14,\"temp_kf\":0},\"weather\":[{\"id\":804,\"main\":\"Clouds\",\"description\":\"overcast clouds\",\"icon\":\"04d\"}],\"clouds\":{\"all\":95},\"wind\":{\"speed\":6.53,\"deg\":33,\"gust\":7.01},\"visibility\":10000,\"pop\":0,\"sys\":{\"pod\":\"d\"},\"dt_txt\":\"2021-04-21 12:00:00\"},{\"dt\":1619017200,\"main\":{\"temp\":300.8,\"feels_like\":299.61,\"temp_min\":300.8,\"temp_max\":300.8,\"pressure\":1015,\"sea_level\":1015,\"grnd_level\":1012,\"humidity\":18,\"temp_kf\":0},\"weather\":[{\"id\":804,\"main\":\"Clouds\",\"description\":\"overcast clouds\",\"icon\":\"04d\"}],\"clouds\":{\"all\":100},\"wind\":{\"speed\":9.47,\"deg\":52,\"gust\":9.44},\"visibility\":10000,\"pop\":0,\"sys\":{\"pod\":\"d\"},\"dt_txt\":\"2021-04-21 15:00:00\"},{\"dt\":1619028000,\"main\":{\"temp\":293.38,\"feels_like\":292.42,\"temp_min\":293.38,\"temp_max\":293.38,\"pressure\":1018,\"sea_level\":1018,\"grnd_level\":1015,\"humidity\":37,\"temp_kf\":0},\"weather\":[{\"id\":804,\"main\":\"Clouds\",\"description\":\"overcast clouds\",\"icon\":\"04n\"}],\"clouds\":{\"all\":94},\"wind\":{\"speed\":8.93,\"deg\":48,\"gust\":11.73},\"visibility\":10000,\"pop\":0,\"sys\":{\"pod\":\"n\"},\"dt_txt\":\"2021-04-21 18:00:00\"},{\"dt\":1619038800,\"main\":{\"temp\":290.26,\"feels_like\":289.59,\"temp_min\":290.26,\"temp_max\":290.26,\"pressure\":1019,\"sea_level\":1019,\"grnd_level\":1016,\"humidity\":60,\"temp_kf\":0},\"weather\":[{\"id\":803,\"main\":\"Clouds\",\"description\":\"broken clouds\",\"icon\":\"04n\"}],\"clouds\":{\"all\":55},\"wind\":{\"speed\":7.36,\"deg\":38,\"gust\":11.38},\"visibility\":10000,\"pop\":0,\"sys\":{\"pod\":\"n\"},\"dt_txt\":\"2021-04-21 21:00:00\"}],\"city\":{\"id\":360630,\"name\":\"Cairo\",\"coord\":{\"lat\":30.0626,\"lon\":31.2497},\"country\":\"EG\",\"population\":7734614,\"timezone\":7200,\"sunrise\":1618629944,\"sunset\":1618676577}}\n"
     ]
    }
   ],
   "source": [
    "import requests\n",
    "\n",
    "url = \"https://community-open-weather-map.p.rapidapi.com/forecast\"\n",
    "\n",
    "querystring = {\"q\":\"Cairo,EG\"}\n",
    "\n",
    "headers = {\n",
    "    'x-rapidapi-key': \"2a9769dc82msh399ea7c7313cd01p1c533cjsne440d55603bb\",\n",
    "    'x-rapidapi-host': \"community-open-weather-map.p.rapidapi.com\"\n",
    "    }\n",
    "\n",
    "response = requests.request(\"GET\", url, headers=headers, params=querystring)\n",
    "\n",
    "print(response.text)"
   ]
  },
  {
   "cell_type": "markdown",
   "metadata": {},
   "source": [
    "### selenium "
   ]
  },
  {
   "cell_type": "raw",
   "metadata": {},
   "source": [
    "conda install selenium\n",
    "pip install selenium"
   ]
  },
  {
   "cell_type": "markdown",
   "metadata": {},
   "source": [
    "Selenium requires a driver to interface with the chosen browser. Firefox, for example, requires geckodriver\n",
    "\n",
    "    Chrome: \thttps://sites.google.com/a/chromium.org/chromedriver/downloads\n",
    "    Edge: \thttps://developer.microsoft.com/en-us/microsoft-edge/tools/webdriver/\n",
    "    Firefox: \thttps://github.com/mozilla/geckodriver/releases\n",
    "    Safari: \thttps://webkit.org/blog/6900/webdriver-support-in-safari-10/"
   ]
  },
  {
   "cell_type": "markdown",
   "metadata": {},
   "source": [
    "https://github.com/mozilla/geckodriver/releases"
   ]
  },
  {
   "cell_type": "markdown",
   "metadata": {},
   "source": [
    "export PATH=$PATH:/opt/geckodriver/bin >> ~/.profile\n",
    "export PATH=$PATH:/opt/chromedriver/bin >> ~/.profile"
   ]
  },
  {
   "cell_type": "code",
   "execution_count": 11,
   "metadata": {},
   "outputs": [
    {
     "ename": "NameError",
     "evalue": "name 'Chrome' is not defined",
     "output_type": "error",
     "traceback": [
      "\u001b[0;31m---------------------------------------------------------------------------\u001b[0m",
      "\u001b[0;31mNameError\u001b[0m                                 Traceback (most recent call last)",
      "\u001b[0;32m<ipython-input-11-c6e48d2b01c3>\u001b[0m in \u001b[0;36m<module>\u001b[0;34m\u001b[0m\n\u001b[1;32m      1\u001b[0m \u001b[0;32mfrom\u001b[0m \u001b[0mselenium\u001b[0m \u001b[0;32mimport\u001b[0m \u001b[0mwebdriver\u001b[0m\u001b[0;34m\u001b[0m\u001b[0;34m\u001b[0m\u001b[0m\n\u001b[0;32m----> 2\u001b[0;31m \u001b[0mChrome\u001b[0m\u001b[0;34m(\u001b[0m\u001b[0mexecutable_path\u001b[0m\u001b[0;34m=\u001b[0m\u001b[0;34m'/opt/chromedriver'\u001b[0m\u001b[0;34m)\u001b[0m\u001b[0;34m\u001b[0m\u001b[0;34m\u001b[0m\u001b[0m\n\u001b[0m\u001b[1;32m      3\u001b[0m \u001b[0mdriver\u001b[0m \u001b[0;34m=\u001b[0m \u001b[0mwebdriver\u001b[0m\u001b[0;34m.\u001b[0m\u001b[0mChrome\u001b[0m\u001b[0;34m(\u001b[0m\u001b[0;34mr'/opt/chromedriver'\u001b[0m\u001b[0;34m)\u001b[0m\u001b[0;34m\u001b[0m\u001b[0;34m\u001b[0m\u001b[0m\n\u001b[1;32m      4\u001b[0m \u001b[0mdriver\u001b[0m\u001b[0;34m.\u001b[0m\u001b[0mmaximize_window\u001b[0m\u001b[0;34m(\u001b[0m\u001b[0;34m)\u001b[0m\u001b[0;34m\u001b[0m\u001b[0;34m\u001b[0m\u001b[0m\n\u001b[1;32m      5\u001b[0m \u001b[0mdriver\u001b[0m\u001b[0;34m.\u001b[0m\u001b[0mget\u001b[0m\u001b[0;34m(\u001b[0m\u001b[0;34m\"http://www.seleniumeasy.com/test/basic-first-form-demo.html\"\u001b[0m\u001b[0;34m)\u001b[0m\u001b[0;34m\u001b[0m\u001b[0;34m\u001b[0m\u001b[0m\n",
      "\u001b[0;31mNameError\u001b[0m: name 'Chrome' is not defined"
     ]
    }
   ],
   "source": [
    "from selenium import webdriver\n",
    "driver = webdriver.Chrome(r'/opt/chromedriver')\n",
    "driver.maximize_window()\n",
    "driver.get(\"http://www.seleniumeasy.com/test/basic-first-form-demo.html\")\n",
    "assert \"Selenium Easy Demo - Simple Form to Automate using Selenium\" in driver.title\n",
    "\n",
    "eleUserMessage = driver.find_element_by_id(\"user-message\")\n",
    "eleUserMessage.clear()\n",
    "eleUserMessage.send_keys(\"Test Python\")\n",
    "\n",
    "eleShowMsgBtn=driver.find_element_by_css_selector('#get-input > .btn')\n",
    "eleShowMsgBtn.click()\n",
    "\n",
    "eleYourMsg=driver.find_element_by_id(\"display\")\n",
    "assert \"Test Python\" in eleYourMsg.text\n",
    "driver.close()"
   ]
  },
  {
   "cell_type": "code",
   "execution_count": 12,
   "metadata": {},
   "outputs": [
    {
     "name": "stdout",
     "output_type": "stream",
     "text": [
      "20°C\n"
     ]
    }
   ],
   "source": [
    "from selenium import webdriver\n",
    "\n",
    "from selenium.webdriver.common.keys import Keys\n",
    "driver = webdriver.Chrome(\"/opt/chromedriver\")\n",
    "url = \"https://openweathermap.org/city/360630\"\n",
    "driver.get(url)\n",
    "Temp_xpath = \"//*[@id=\\\"weather-widget\\\"]/div[2]/div[1]/div[1]/div[2]/div[1]/span\"\n",
    "fff = driver.find_elements_by_xpath(Temp_xpath)\n",
    "fff\n",
    "print(fff[0].text)"
   ]
  },
  {
   "cell_type": "code",
   "execution_count": null,
   "metadata": {},
   "outputs": [],
   "source": [
    "from selenium import webdriver\n",
    "from selenium.webdriver.common.keys import Keys\n",
    "user_name = \"YOUR EMAILID\"\n",
    "password = \"YOUR PASSWORD\"\n",
    "driver = webdriver.Firefox()\n",
    "driver.get(\"https://www.facebook.com\")\n",
    "element = driver.find_element_by_id(\"email\")\n",
    "element.send_keys(user_name)\n",
    "element = driver.find_element_by_id(\"pass\")\n",
    "element.send_keys(password)\n",
    "element.send_keys(Keys.RETURN)\n",
    "element.close()"
   ]
  },
  {
   "cell_type": "code",
   "execution_count": null,
   "metadata": {},
   "outputs": [],
   "source": [
    "from selenium import webdriver\n",
    "from selenium.webdriver.support.ui import WebDriverWait\n",
    "# Step 1) Open Firefox \n",
    "browser = webdriver.Firefox()\n",
    "# Step 2) Navigate to Facebook\n",
    "browser.get(\"http://www.facebook.com\")\n",
    "# Step 3) Search & Enter the Email or Phone field & Enter Password\n",
    "username = browser.find_element_by_id(\"email\")\n",
    "password = browser.find_element_by_id(\"pass\")\n",
    "submit   = browser.find_element_by_id(\"loginbutton\")\n",
    "username.send_keys(\"YOUR EMAILID\")\n",
    "password.send_keys(\"YOUR PASSWORD\")\n",
    "# Step 4) Click Login\n",
    "submit.click()\n",
    "wait = WebDriverWait( browser, 5 )\n",
    "page_title = browser.title\n",
    "assert page_title == \"Facebook\""
   ]
  }
 ],
 "metadata": {
  "kernelspec": {
   "display_name": "Python 3",
   "language": "python",
   "name": "python3"
  },
  "language_info": {
   "codemirror_mode": {
    "name": "ipython",
    "version": 3
   },
   "file_extension": ".py",
   "mimetype": "text/x-python",
   "name": "python",
   "nbconvert_exporter": "python",
   "pygments_lexer": "ipython3",
   "version": "3.8.8"
  }
 },
 "nbformat": 4,
 "nbformat_minor": 4
}
