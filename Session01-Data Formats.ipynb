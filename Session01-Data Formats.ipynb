{
 "cells": [
  {
   "cell_type": "markdown",
   "metadata": {},
   "source": [
    "<img src=\"https://drive.google.com/uc?id=1v7YY_rNBU2OMaPnbUGmzaBj3PUeddxrw\" alt=\"ITI MCIT EPITA\" style=\"width: 750px;\"/>\n",
    "\n",
    "___"
   ]
  },
  {
   "cell_type": "markdown",
   "metadata": {},
   "source": [
    "# Data Preparation & Exploration\n",
    "\n",
    "By: **Mohamed Fouad Fakhruldeen**, mohamed.fakhruldeen@epita.fr\n",
    "____\n",
    "\n",
    "## Session 01"
   ]
  },
  {
   "cell_type": "markdown",
   "metadata": {},
   "source": [
    "#### Topics: \n",
    "\n",
    "* Introduction on data extraction and preparation (goal and trajectory) \n",
    "* Install and present Orange software \n",
    "* Load several “real-life” csv files, with problems in encoding, formatting, escaping. \n",
    "* Identify the types of variables that will be part of the file (continuous, discrete). \n",
    "* Correct the errors manually then programmatically (using java or python), \n",
    "* Transform to correct CSV related errors, then record the files in a clean version. \n",
    "* Discover XML\n",
    "* Discover XSD\n",
    "* Discover XSLT\n",
    "* Use either XSLT or a programming language to convert xml to csv \n",
    "* Discovering JSON formatting \n",
    "* Convert JSON to CSV \n",
    "* Discover ARFF formatting \n",
    "* Load ARFF data and Schema\n",
    "\n",
    "____"
   ]
  },
  {
   "cell_type": "markdown",
   "metadata": {},
   "source": [
    "### What's Data Exploration and Preparation\n",
    "\n",
    "-   Is the first step of the machine learning life cycle. \n",
    "-   It is one of the most important steps of the life cycle. \n",
    "-   In this step, we need to identify the different data sources, as data can be collected from various sources such as; **files, database, or internet.**\n",
    "-   First part includes the below tasks:\n",
    "    -   Identify various data sources\n",
    "    -   Collect data\n",
    "    -   Integrate the data obtained from different sources\n",
    "-   By performing the above task, we get a coherent set of data, also called as a **dataset.**\n",
    "-   The quantity and quality of the collected data will determine the efficiency of the output. The more will be the data, the more accurate will be the prediction.\n",
    "-   The goal of this step is to identify and obtain all data-related problems (Data in the real world are “dirty”).\n",
    "-   In real-world applications, collected data may have various issues, including:\n",
    "    -   Missing Values\n",
    "    -   Duplicate data\n",
    "    -   Invalid data\n",
    "    -   Noise"
   ]
  },
  {
   "cell_type": "markdown",
   "metadata": {},
   "source": [
    "#### what's Data?\n",
    "\n",
    "data are individual pieces of factual information recorded and used for the purpose of analysis. \n",
    "It is the raw information from which statistics are created. \n",
    "\n",
    "Statistics are the results of data analysis - its interpretation and presentation. Often these types of statistics are referred to as 'statistical data'\n",
    "\n",
    "##### where to find data sets?\n",
    "\n",
    "- [datahub](https://datahub.io/machine-learning/iris)\n",
    "- [kaggle](https://www.kaggle.com/datasets)\n",
    "- [socrata](https://opendata.socrata.com/)\n",
    "- [awesome public datasets](https://github.com/awesomedata/awesome-public-datasets)\n",
    "- [BigQuery public datasets](https://cloud.google.com/bigquery/public-data/)\n",
    "- [UC Irvine Machine Learning Repository](https://archive.ics.uci.edu/ml/index.php)\n",
    "- [Data.gov](https://www.data.gov/)\n",
    "- [Academic Torrents](https://academictorrents.com/browse.php)\n",
    "- [quandl](https://www.quandl.com/search)\n",
    "\n",
    "and you can google for more."
   ]
  },
  {
   "cell_type": "markdown",
   "metadata": {},
   "source": [
    "#### what's Variable?\n",
    "\n",
    "A variable is a characteristic of a unit being observed that may assume more than one of a set of values to which a numerical measure or a category from a classification can be assigned (e.g. income, age, weight, etc., and “occupation”, “industry”, “disease”, etc. [Source](https://stats.oecd.org/glossary/detail.asp?ID=2857)"
   ]
  },
  {
   "cell_type": "markdown",
   "metadata": {},
   "source": [
    "#### Variable Dependency\n",
    "\n",
    "**The independent variable** is the cause. Its value is independent of other variables in your study.\n",
    "\n",
    "**The dependent variable** is the effect. Its value depends on changes in the independent variable.\n"
   ]
  },
  {
   "cell_type": "markdown",
   "metadata": {},
   "source": [
    "#### Categorical variables \n",
    "\n",
    "descriptions of groups or things, like “breeds of dog” or “voting preference”. \n",
    "are also known as discrete or qualitative variables. Categorical variables can be further categorized as:\n",
    "- nominal: no order: Gender, Race\n",
    "- ordinal: ordered series: rating system\n",
    "- dichotomous/binary: Yes/No  "
   ]
  },
  {
   "cell_type": "markdown",
   "metadata": {},
   "source": [
    "#### Quantitative variables\n",
    "\n",
    "Numeric: counts, percents, or numbers. \n",
    "which can be categorized as:\n",
    "- Continuous as ratio and intervals\n",
    "- Discrete as counts"
   ]
  },
  {
   "cell_type": "markdown",
   "metadata": {},
   "source": [
    "#### Variable transformations\n",
    "\n",
    "There are two main variable transformations:\n",
    "\n",
    "- From a continuous to a discrete variable\n",
    "- From a quantitative to a qualitative variable\n",
    "\n",
    "*for more you can google AP Statistics*\n",
    "____"
   ]
  },
  {
   "cell_type": "markdown",
   "metadata": {},
   "source": [
    "### CSV"
   ]
  },
  {
   "cell_type": "markdown",
   "metadata": {},
   "source": [
    "-   CSV stands for “Comma-Separated Values\". \n",
    "-   CSV is a simple file format used to store tabular data, such as a spreadsheet or database. \n",
    "-   There may be an optional header line appearing as the first line of the file with the same format as normal record lines. \n",
    "    -   The header contains names corresponding to the fields in the file. \n",
    "    -   Also, it should contain the same number of fields as the records in the rest of the file. \n",
    "-   Each line of the file is a data record. \n",
    "-   All records should have the same number of fields, in the same order.\n",
    "-   Each record consists of one or more fields, separated by commas.\n",
    "-   CSV file with the extension (.csv).\n",
    "-   If the fields of data in your CSV file contain commas, you can protect them by enclosing those data fields in double quotes (\"). "
   ]
  },
  {
   "cell_type": "code",
   "execution_count": 5,
   "metadata": {},
   "outputs": [
    {
     "name": "stdout",
     "output_type": "stream",
     "text": [
      "outlook,temperature,humidity,windy,play\n",
      "\n",
      "b'sunny',85.0,85.0,b'FALSE',b'no'\n",
      "\n",
      "b'sunny',80.0,90.0,b'TRUE',b'no'\n",
      "\n",
      "b'overcast',83.0,86.0,b'FALSE',b'yes'\n",
      "\n",
      "b'rainy',70.0,96.0,b'FALSE',b'yes'\n",
      "\n",
      "b'rainy',68.0,80.0,b'FALSE',b'yes'\n",
      "\n"
     ]
    }
   ],
   "source": [
    "# Extra out of course scope\n",
    "with open(\"Files/Session01/CSV.csv\", \"r\") as table:\n",
    "    i = 0\n",
    "    for row in table:\n",
    "        print(row)\n",
    "        i+=1\n",
    "        if i > 5:\n",
    "            break\n"
   ]
  },
  {
   "cell_type": "code",
   "execution_count": 12,
   "metadata": {},
   "outputs": [
    {
     "data": {
      "text/html": [
       "<div>\n",
       "<style scoped>\n",
       "    .dataframe tbody tr th:only-of-type {\n",
       "        vertical-align: middle;\n",
       "    }\n",
       "\n",
       "    .dataframe tbody tr th {\n",
       "        vertical-align: top;\n",
       "    }\n",
       "\n",
       "    .dataframe thead th {\n",
       "        text-align: right;\n",
       "    }\n",
       "</style>\n",
       "<table border=\"1\" class=\"dataframe\">\n",
       "  <thead>\n",
       "    <tr style=\"text-align: right;\">\n",
       "      <th></th>\n",
       "      <th>outlook</th>\n",
       "      <th>temperature</th>\n",
       "      <th>humidity</th>\n",
       "      <th>windy</th>\n",
       "      <th>play</th>\n",
       "    </tr>\n",
       "  </thead>\n",
       "  <tbody>\n",
       "    <tr>\n",
       "      <th>0</th>\n",
       "      <td>b'sunny'</td>\n",
       "      <td>85.0</td>\n",
       "      <td>85.0</td>\n",
       "      <td>b'FALSE'</td>\n",
       "      <td>b'no'</td>\n",
       "    </tr>\n",
       "    <tr>\n",
       "      <th>1</th>\n",
       "      <td>b'sunny'</td>\n",
       "      <td>80.0</td>\n",
       "      <td>90.0</td>\n",
       "      <td>b'TRUE'</td>\n",
       "      <td>b'no'</td>\n",
       "    </tr>\n",
       "    <tr>\n",
       "      <th>2</th>\n",
       "      <td>b'overcast'</td>\n",
       "      <td>83.0</td>\n",
       "      <td>86.0</td>\n",
       "      <td>b'FALSE'</td>\n",
       "      <td>b'yes'</td>\n",
       "    </tr>\n",
       "    <tr>\n",
       "      <th>3</th>\n",
       "      <td>b'rainy'</td>\n",
       "      <td>70.0</td>\n",
       "      <td>96.0</td>\n",
       "      <td>b'FALSE'</td>\n",
       "      <td>b'yes'</td>\n",
       "    </tr>\n",
       "    <tr>\n",
       "      <th>4</th>\n",
       "      <td>b'rainy'</td>\n",
       "      <td>68.0</td>\n",
       "      <td>80.0</td>\n",
       "      <td>b'FALSE'</td>\n",
       "      <td>b'yes'</td>\n",
       "    </tr>\n",
       "    <tr>\n",
       "      <th>5</th>\n",
       "      <td>b'rainy'</td>\n",
       "      <td>65.0</td>\n",
       "      <td>70.0</td>\n",
       "      <td>b'TRUE'</td>\n",
       "      <td>b'no'</td>\n",
       "    </tr>\n",
       "    <tr>\n",
       "      <th>6</th>\n",
       "      <td>b'overcast'</td>\n",
       "      <td>64.0</td>\n",
       "      <td>65.0</td>\n",
       "      <td>b'TRUE'</td>\n",
       "      <td>b'yes'</td>\n",
       "    </tr>\n",
       "    <tr>\n",
       "      <th>7</th>\n",
       "      <td>b'sunny'</td>\n",
       "      <td>72.0</td>\n",
       "      <td>95.0</td>\n",
       "      <td>b'FALSE'</td>\n",
       "      <td>b'no'</td>\n",
       "    </tr>\n",
       "    <tr>\n",
       "      <th>8</th>\n",
       "      <td>b'sunny'</td>\n",
       "      <td>69.0</td>\n",
       "      <td>70.0</td>\n",
       "      <td>b'FALSE'</td>\n",
       "      <td>b'yes'</td>\n",
       "    </tr>\n",
       "    <tr>\n",
       "      <th>9</th>\n",
       "      <td>b'rainy'</td>\n",
       "      <td>75.0</td>\n",
       "      <td>80.0</td>\n",
       "      <td>b'FALSE'</td>\n",
       "      <td>b'yes'</td>\n",
       "    </tr>\n",
       "  </tbody>\n",
       "</table>\n",
       "</div>"
      ],
      "text/plain": [
       "       outlook  temperature  humidity     windy    play\n",
       "0     b'sunny'         85.0      85.0  b'FALSE'   b'no'\n",
       "1     b'sunny'         80.0      90.0   b'TRUE'   b'no'\n",
       "2  b'overcast'         83.0      86.0  b'FALSE'  b'yes'\n",
       "3     b'rainy'         70.0      96.0  b'FALSE'  b'yes'\n",
       "4     b'rainy'         68.0      80.0  b'FALSE'  b'yes'\n",
       "5     b'rainy'         65.0      70.0   b'TRUE'   b'no'\n",
       "6  b'overcast'         64.0      65.0   b'TRUE'  b'yes'\n",
       "7     b'sunny'         72.0      95.0  b'FALSE'   b'no'\n",
       "8     b'sunny'         69.0      70.0  b'FALSE'  b'yes'\n",
       "9     b'rainy'         75.0      80.0  b'FALSE'  b'yes'"
      ]
     },
     "execution_count": 12,
     "metadata": {},
     "output_type": "execute_result"
    }
   ],
   "source": [
    "# Extra out of course scope\n",
    "import pandas as pd\n",
    "\n",
    "df = pd.read_csv(\"Files/Session01/CSV.csv\", sep=\",\")\n",
    "# shows top 10 rows\n",
    "df.head(10)\n",
    "#df.sample(5)"
   ]
  },
  {
   "cell_type": "code",
   "execution_count": 10,
   "metadata": {},
   "outputs": [
    {
     "data": {
      "text/html": [
       "<div>\n",
       "<style scoped>\n",
       "    .dataframe tbody tr th:only-of-type {\n",
       "        vertical-align: middle;\n",
       "    }\n",
       "\n",
       "    .dataframe tbody tr th {\n",
       "        vertical-align: top;\n",
       "    }\n",
       "\n",
       "    .dataframe thead th {\n",
       "        text-align: right;\n",
       "    }\n",
       "</style>\n",
       "<table border=\"1\" class=\"dataframe\">\n",
       "  <thead>\n",
       "    <tr style=\"text-align: right;\">\n",
       "      <th></th>\n",
       "      <th>sepal_length</th>\n",
       "      <th>sepal_width</th>\n",
       "      <th>petal_length</th>\n",
       "      <th>petal_width</th>\n",
       "      <th>species</th>\n",
       "    </tr>\n",
       "  </thead>\n",
       "  <tbody>\n",
       "    <tr>\n",
       "      <th>0</th>\n",
       "      <td>5.1</td>\n",
       "      <td>3.5</td>\n",
       "      <td>1.4</td>\n",
       "      <td>0.2</td>\n",
       "      <td>setosa</td>\n",
       "    </tr>\n",
       "    <tr>\n",
       "      <th>1</th>\n",
       "      <td>4.9</td>\n",
       "      <td>3.0</td>\n",
       "      <td>1.4</td>\n",
       "      <td>0.2</td>\n",
       "      <td>setosa</td>\n",
       "    </tr>\n",
       "    <tr>\n",
       "      <th>2</th>\n",
       "      <td>4.7</td>\n",
       "      <td>3.2</td>\n",
       "      <td>1.3</td>\n",
       "      <td>0.2</td>\n",
       "      <td>setosa</td>\n",
       "    </tr>\n",
       "    <tr>\n",
       "      <th>3</th>\n",
       "      <td>4.6</td>\n",
       "      <td>3.1</td>\n",
       "      <td>1.5</td>\n",
       "      <td>0.2</td>\n",
       "      <td>setosa</td>\n",
       "    </tr>\n",
       "    <tr>\n",
       "      <th>4</th>\n",
       "      <td>5.0</td>\n",
       "      <td>3.6</td>\n",
       "      <td>1.4</td>\n",
       "      <td>0.2</td>\n",
       "      <td>setosa</td>\n",
       "    </tr>\n",
       "    <tr>\n",
       "      <th>5</th>\n",
       "      <td>5.4</td>\n",
       "      <td>3.9</td>\n",
       "      <td>1.7</td>\n",
       "      <td>0.4</td>\n",
       "      <td>setosa</td>\n",
       "    </tr>\n",
       "    <tr>\n",
       "      <th>6</th>\n",
       "      <td>4.6</td>\n",
       "      <td>3.4</td>\n",
       "      <td>1.4</td>\n",
       "      <td>0.3</td>\n",
       "      <td>setosa</td>\n",
       "    </tr>\n",
       "    <tr>\n",
       "      <th>7</th>\n",
       "      <td>5.0</td>\n",
       "      <td>3.4</td>\n",
       "      <td>1.5</td>\n",
       "      <td>0.2</td>\n",
       "      <td>setosa</td>\n",
       "    </tr>\n",
       "    <tr>\n",
       "      <th>8</th>\n",
       "      <td>4.4</td>\n",
       "      <td>2.9</td>\n",
       "      <td>1.4</td>\n",
       "      <td>0.2</td>\n",
       "      <td>setosa</td>\n",
       "    </tr>\n",
       "    <tr>\n",
       "      <th>9</th>\n",
       "      <td>4.9</td>\n",
       "      <td>3.1</td>\n",
       "      <td>1.5</td>\n",
       "      <td>0.1</td>\n",
       "      <td>setosa</td>\n",
       "    </tr>\n",
       "  </tbody>\n",
       "</table>\n",
       "</div>"
      ],
      "text/plain": [
       "   sepal_length  sepal_width  petal_length  petal_width species\n",
       "0           5.1          3.5           1.4          0.2  setosa\n",
       "1           4.9          3.0           1.4          0.2  setosa\n",
       "2           4.7          3.2           1.3          0.2  setosa\n",
       "3           4.6          3.1           1.5          0.2  setosa\n",
       "4           5.0          3.6           1.4          0.2  setosa\n",
       "5           5.4          3.9           1.7          0.4  setosa\n",
       "6           4.6          3.4           1.4          0.3  setosa\n",
       "7           5.0          3.4           1.5          0.2  setosa\n",
       "8           4.4          2.9           1.4          0.2  setosa\n",
       "9           4.9          3.1           1.5          0.1  setosa"
      ]
     },
     "execution_count": 10,
     "metadata": {},
     "output_type": "execute_result"
    }
   ],
   "source": [
    "# Extra out of course scope\n",
    "import pandas as pd\n",
    "\n",
    "iris = pd.read_csv('https://raw.githubusercontent.com/mwaskom/seaborn-data/master/iris.csv')\n",
    "iris.head(10)"
   ]
  },
  {
   "cell_type": "markdown",
   "metadata": {},
   "source": [
    "#### Escaping in CSV"
   ]
  },
  {
   "cell_type": "markdown",
   "metadata": {},
   "source": [
    "By default, the escape character is a \" (double quote) for CSV-formatted files. If you want to use a different escape character, use the ESCAPE clause of COPY, CREATE EXTERNAL TABLE or gpload to declare a different escape character. In cases where your selected escape character is present in your data, you can use it to escape itself.\n",
    "\n",
    "For example, suppose you have a table with three columns and you want to load the following three fields:\n",
    "\n",
    "- Free trip to A,B\n",
    "- 5.89\n",
    "- Special rate \"1.79\"\n",
    "\n",
    "The formatted row in your data file looks like this:\n",
    "```\n",
    "         \"Free trip to A,B\",\"5.89\",\"Special rate \"\"1.79\"\"\"\n",
    "```\n",
    "      \n",
    "\n",
    "[source](https://gpdb.docs.pivotal.io/43320/admin_guide/load/topics/g-escaping-in-csv-formatted-files.html)"
   ]
  },
  {
   "cell_type": "markdown",
   "metadata": {},
   "source": [
    "#### Missing Values in CSV"
   ]
  },
  {
   "cell_type": "markdown",
   "metadata": {},
   "source": [
    "empty double quoted ```..., \"\", ...``` or empty delimiter ```, .. ,, ..,```"
   ]
  },
  {
   "cell_type": "markdown",
   "metadata": {},
   "source": [
    "#### CSV Decimal Separator"
   ]
  },
  {
   "cell_type": "markdown",
   "metadata": {},
   "source": [
    "1. Comma separated with dot as decimal marker\n",
    "```\n",
    "SomeText , SomeNumber1 , SomeNumber2\n",
    "CDD22345 , 0.0001 , 22456.12\n",
    "CDD44455 , 55.112 , 100.2\n",
    "CDD12349, 10.1E-4   , 88.2\n",
    "```\n",
    "2. Semicolon separated with comma as decimal marker\n",
    "```\n",
    "SomeText ; SomeNumber1 ; SomeNumber2\n",
    "CDD22345 ; 0,0001 ; 22456,12\n",
    "CDD44455 ; 55,112 ; 100.2\n",
    "CDD12349 ; 10.1E-4 ; 88.2  \n",
    "```"
   ]
  },
  {
   "cell_type": "markdown",
   "metadata": {},
   "source": [
    "remember that for non english characters you need to open files and use them in UTF-8 encoding to be able to display them correctly"
   ]
  },
  {
   "cell_type": "markdown",
   "metadata": {},
   "source": [
    "#### Orange3 CSV"
   ]
  },
  {
   "cell_type": "code",
   "execution_count": null,
   "metadata": {},
   "outputs": [],
   "source": []
  },
  {
   "cell_type": "markdown",
   "metadata": {},
   "source": [
    "_______"
   ]
  },
  {
   "cell_type": "markdown",
   "metadata": {},
   "source": [
    "### XML"
   ]
  },
  {
   "cell_type": "markdown",
   "metadata": {},
   "source": [
    "- The Extensible Markup Language (XML) is a simple text-based format for representing structured information: documents, data, configuration, books, transactions, invoices, and much more.\n",
    "- XML defines a set of rules for encoding documents in a format that is both human-readable and machine-readable.\n",
    "- XML is one of the most widely-used formats for sharing structured information today.\n",
    "- XML was designed to be both human- and machine-readable\n",
    "- XML is often used for exchange data over the Internet."
   ]
  },
  {
   "cell_type": "markdown",
   "metadata": {},
   "source": [
    "#### XML Markdown"
   ]
  },
  {
   "attachments": {},
   "cell_type": "markdown",
   "metadata": {},
   "source": [
    "<img src=\"Files/Session01/xml.png\" alt=\"XML\" style=\"width: 750px;\"/>\n"
   ]
  },
  {
   "cell_type": "markdown",
   "metadata": {},
   "source": [
    "<img src=\"Files/Session01/xml2.png\" alt=\"XML2\" style=\"width: 750px;\"/>\n"
   ]
  },
  {
   "cell_type": "raw",
   "metadata": {},
   "source": [
    "<root>\n",
    "  <child> \n",
    "    <subchild>.....</subchild>\n",
    "  </child>\n",
    "</root> "
   ]
  },
  {
   "cell_type": "code",
   "execution_count": 18,
   "metadata": {},
   "outputs": [
    {
     "name": "stdout",
     "output_type": "stream",
     "text": [
      "bookstore\n"
     ]
    }
   ],
   "source": [
    "# Extra out of course scope\n",
    "\n",
    "import xml.dom.minidom\n",
    "doc = xml.dom.minidom.parse(\"Files/Session01/XML/sample2.xml\");\n",
    "print(doc.firstChild.tagName)"
   ]
  },
  {
   "cell_type": "markdown",
   "metadata": {},
   "source": [
    "#### XML Syntax"
   ]
  },
  {
   "cell_type": "markdown",
   "metadata": {},
   "source": [
    "- XML Documents Must Have one Root Element\n",
    "- All elements must be closed or marked as empty.\n",
    "- Empty elements can be closed as normal, <happiness></happiness> or you can use a special short-form, <happiness/> instead.\n",
    "- In XML, attribute values must always be quoted\n",
    "- XML Tags are Case Sensitive\n",
    "- XML Elements Must be Properly Nested\n",
    "- XML Attribute Values Must Always be Quoted\n",
    "- White-space is Preserved in XML\n",
    "- The XML prolog does not have a closing tag. The prolog is not a part of the XML document."
   ]
  },
  {
   "cell_type": "markdown",
   "metadata": {},
   "source": [
    "##### Prolog"
   ]
  },
  {
   "cell_type": "raw",
   "metadata": {},
   "source": [
    "<?xml version=\"1.0\" encoding=\"UTF-8\"?> "
   ]
  },
  {
   "cell_type": "markdown",
   "metadata": {},
   "source": [
    "##### root element"
   ]
  },
  {
   "cell_type": "raw",
   "metadata": {},
   "source": [
    "<bookstore> \n",
    "\n",
    "</bookstore>"
   ]
  },
  {
   "cell_type": "markdown",
   "metadata": {},
   "source": [
    "##### element"
   ]
  },
  {
   "cell_type": "raw",
   "metadata": {},
   "source": [
    "<bookstore>\n",
    "\n",
    "    <book>\n",
    "    </book>\n",
    "    \n",
    "</bookstore>"
   ]
  },
  {
   "cell_type": "markdown",
   "metadata": {},
   "source": [
    "##### child elements"
   ]
  },
  {
   "cell_type": "raw",
   "metadata": {},
   "source": [
    "<bookstore>\n",
    "    <book>\n",
    "    \n",
    "        <title> ... </title>\n",
    "        <author> ... </author>\n",
    "        <year> ... </year>\n",
    "        <price> ... </price>\n",
    "\n",
    "    </book>\n",
    "</bookstore>"
   ]
  },
  {
   "cell_type": "markdown",
   "metadata": {},
   "source": [
    "##### Attribute Values"
   ]
  },
  {
   "cell_type": "markdown",
   "metadata": {},
   "source": [
    "must be quoted or single quoted if the value itself contains double quote\n",
    "\n",
    "- they can't contain multiple values\n",
    "- can't contain tree structure\n",
    "- and they are not easily expandable\n"
   ]
  },
  {
   "cell_type": "raw",
   "metadata": {},
   "source": [
    "<bookstore>\n",
    "    <book category=\"sci-fi\">\n",
    "        <title> ... </title>\n",
    "        <author> ... </author>\n",
    "        <year> ... </year>\n",
    "        <price> ... </price>\n",
    "    </book>\n",
    "</bookstore>"
   ]
  },
  {
   "cell_type": "markdown",
   "metadata": {},
   "source": [
    "There are 5 pre-defined entity references in XML: cause they may refer to beginning or closing of element\n",
    "\n",
    "| | | |\n",
    "| ------------ | ---- | -------------- |\n",
    "| ```&lt;```   | <    | less than      |\n",
    "| ```&gt;```   | \\>   | greater than   |\n",
    "| ```&amp;```  | &    | ampersand      |\n",
    "| ```&apos;``` | '    | apostrophe     |\n",
    "| ```&quot;``` | \"    | quotation mark |\n",
    "\n"
   ]
  },
  {
   "cell_type": "markdown",
   "metadata": {},
   "source": [
    "##### Comments in XML"
   ]
  },
  {
   "cell_type": "markdown",
   "metadata": {},
   "source": [
    "```\n",
    "<!-- This is a comment -->\n",
    "```\n",
    "\n",
    "Don't use two dashes in the middle of comment"
   ]
  },
  {
   "cell_type": "markdown",
   "metadata": {},
   "source": [
    "#### XML Element Naming syntax\n"
   ]
  },
  {
   "cell_type": "markdown",
   "metadata": {},
   "source": [
    "- case-sensitive.\n",
    "- must start with a letter or underscore.\n",
    "- cannot start with the letters xml (or XML, or Xml, etc)\n",
    "- can contain letters, digits, hyphens, underscores, and periods.\n",
    "- cannot contain spaces.\n"
   ]
  },
  {
   "cell_type": "markdown",
   "metadata": {},
   "source": [
    "##### Metadata\n",
    "\n",
    "Metadata (data about data) should be stored as attributes, and the data itself should be stored as elements."
   ]
  },
  {
   "cell_type": "markdown",
   "metadata": {},
   "source": [
    "##### XML DOM"
   ]
  },
  {
   "cell_type": "markdown",
   "metadata": {},
   "source": [
    "The XML DOM defines a standard way for accessing and manipulating XML documents. \n",
    "It presents an XML document as a tree-structure."
   ]
  },
  {
   "cell_type": "markdown",
   "metadata": {},
   "source": [
    "#### DTD"
   ]
  },
  {
   "cell_type": "markdown",
   "metadata": {},
   "source": [
    "internal"
   ]
  },
  {
   "cell_type": "raw",
   "metadata": {},
   "source": [
    " <?xml version=\"1.0\"?>\n",
    "<!DOCTYPE note [\n",
    "<!ELEMENT note (to,from,heading,body)>\n",
    "<!ELEMENT to (#PCDATA)>\n",
    "<!ELEMENT from (#PCDATA)>\n",
    "<!ELEMENT heading (#PCDATA)>\n",
    "<!ELEMENT body (#PCDATA)>\n",
    "]>\n",
    "<note>\n",
    "    <to>Tove</to>\n",
    "    <from>Jani</from>\n",
    "    <heading>Reminder</heading>\n",
    "    <body>Don't forget me this weekend</body>\n",
    "</note> "
   ]
  },
  {
   "cell_type": "markdown",
   "metadata": {},
   "source": [
    "With a DTD, independent groups of people can agree on a standard DTD for interchanging data.\n",
    "\n",
    "An application can use a DTD to verify that XML data is valid."
   ]
  },
  {
   "cell_type": "markdown",
   "metadata": {},
   "source": [
    "external"
   ]
  },
  {
   "cell_type": "raw",
   "metadata": {},
   "source": [
    " <?xml version=\"1.0\"?>\n",
    "<!DOCTYPE note SYSTEM \"note.dtd\">\n",
    "<note>\n",
    "  <to>Tove</to>\n",
    "  <from>Jani</from>\n",
    "  <heading>Reminder</heading>\n",
    "  <body>Don't forget me this weekend!</body>\n",
    "</note> "
   ]
  },
  {
   "cell_type": "markdown",
   "metadata": {},
   "source": [
    "#### XSD : XML Schema"
   ]
  },
  {
   "cell_type": "markdown",
   "metadata": {},
   "source": [
    "- An XML Schema describes the structure of an XML document.\n",
    "- The XML Schema language is also referred to as XML Schema Definition (XSD).\n",
    "- An XML Schema is a language for expressing constraints about XML documents. \n",
    "- Checking a document against a Schema is known as validating against that schema.\n"
   ]
  },
  {
   "cell_type": "markdown",
   "metadata": {},
   "source": [
    "##### Why?"
   ]
  },
  {
   "cell_type": "markdown",
   "metadata": {},
   "source": [
    "- In the XML world, hundreds of standardized XML formats are in daily use.\n",
    "- describe allowable document content\n",
    "- validate the correctness of data\n",
    "- define data facets (restrictions on data)\n",
    "- define data patterns (data formats)\n",
    "- convert data between different data types\n",
    "\n",
    "XML Schemas Secure Data Communication\n",
    "\n",
    "When sending data from a sender to a receiver, it is essential that both parts have the same \"expectations\" about the content.\n",
    "\n",
    "\n",
    "The purpose of an XML Schema is to define the legal building blocks of an XML document:\n",
    "- the elements and attributes that can appear in a document\n",
    "- the number of (and order of) child elements\n",
    "- data types for elements and attributes\n",
    "- default and fixed values for elements and attributes\n"
   ]
  },
  {
   "cell_type": "raw",
   "metadata": {},
   "source": [
    "<?xml version=\"1.0\"?>\n",
    "<xs:schema xmlns:xs=\"http://www.w3.org/2001/XMLSchema\">\n",
    "\n",
    "<xs:element name=\"note\">\n",
    "  <xs:complexType>\n",
    "    <xs:sequence>\n",
    "      <xs:element name=\"to\" type=\"xs:string\"/>\n",
    "      <xs:element name=\"from\" type=\"xs:string\"/>\n",
    "      <xs:element name=\"heading\" type=\"xs:string\"/>\n",
    "      <xs:element name=\"body\" type=\"xs:string\"/>\n",
    "    </xs:sequence>\n",
    "  </xs:complexType>\n",
    "</xs:element>\n",
    "\n",
    "</xs:schema> "
   ]
  },
  {
   "cell_type": "markdown",
   "metadata": {},
   "source": [
    "or reference DTD schema"
   ]
  },
  {
   "cell_type": "raw",
   "metadata": {},
   "source": [
    "<?xml version=\"1.0\"?>\n",
    "\n",
    "<!DOCTYPE note SYSTEM\n",
    "\"https://www.w3schools.com/xml/note.dtd\">\n",
    "\n",
    "<note>\n",
    "  <to>Tove</to>\n",
    "  <from>Jani</from>\n",
    "  <heading>Reminder</heading>\n",
    "  <body>Don't forget me this weekend!</body>\n",
    "</note>"
   ]
  },
  {
   "cell_type": "markdown",
   "metadata": {},
   "source": [
    "[read more](https://www.w3schools.com/xml/schema_intro.asp)\n",
    "____"
   ]
  },
  {
   "cell_type": "markdown",
   "metadata": {},
   "source": [
    "### XSLT"
   ]
  },
  {
   "cell_type": "markdown",
   "metadata": {},
   "source": [
    "XSL (eXtensible Stylesheet Language) is a styling language for XML\n",
    "\n",
    "XSL Transformations is a language for transforming XML documents into other formats ( like XML documents, CSV or HTML documents).\n",
    "\n",
    "\n",
    "- XSLT is a language for transforming XML documents.\n",
    "- XPath is a language for navigating in XML documents.\n",
    "- XQuery is a language for querying XML documents.\n",
    "\n",
    "XSL = Style Sheets for XML"
   ]
  },
  {
   "cell_type": "markdown",
   "metadata": {},
   "source": [
    "#### XPath"
   ]
  },
  {
   "cell_type": "markdown",
   "metadata": {},
   "source": [
    "- XPath is a major element in the XSLT standard.\n",
    "- XPath can be used to navigate through elements and attributes in an XML document.\n",
    "- XPath uses path expressions to select nodes or node-sets in an XML document.\n",
    "- XPath cannot be used stand-alone: it is always used in the context of a host language, whether that language is XSLT, Python, or some other language. \n",
    "\n",
    "Example: https://www.w3schools.com/xml/xml_xpath.asp\n"
   ]
  },
  {
   "cell_type": "markdown",
   "metadata": {},
   "source": [
    "XPath uses path expressions to select nodes or node-sets in an XML document.\n",
    "\n",
    "These path expressions look very much like the path expressions you use with traditional computer file systems:"
   ]
  },
  {
   "cell_type": "markdown",
   "metadata": {},
   "source": [
    "|Expression | \tDescription|\n",
    "|---|---|\n",
    "|nodename \t|Selects all nodes with the name \"nodename\"|\n",
    "|/ \t|Selects from the root node|\n",
    "|// \t|Selects nodes in the document from the current node that match the selection no matter where they are|\n",
    "|. \t|Selects the current node|\n",
    "|.. \t|Selects the parent of the current node|\n",
    "|@ \t|Selects attributes|\n",
    "\n",
    "\n",
    "https://www.w3schools.com/xml/xpath_syntax.asp"
   ]
  },
  {
   "cell_type": "markdown",
   "metadata": {},
   "source": [
    "#### Use XSLT to convert xml to CSV Example"
   ]
  },
  {
   "cell_type": "code",
   "execution_count": 22,
   "metadata": {},
   "outputs": [],
   "source": [
    "# Extra out of course scope\n",
    "# but still good to know\n",
    "\n",
    "from lxml import etree\n",
    " \n",
    "data = open('Files/Session01/XSLT/XSLT sample_to CSV.xslt')\n",
    "xslt_content = data.read()\n",
    "xslt_root = etree.XML(xslt_content)\n",
    "dom = etree.parse('Files/Session01/XSLT/XML sample.xml')\n",
    "transform = etree.XSLT(xslt_root)\n",
    "result = transform(dom)\n",
    "f = open('Files/Session01/XSLT/output01.csv', 'w')\n",
    "f.write(str(result))\n",
    "f.close()"
   ]
  },
  {
   "cell_type": "code",
   "execution_count": 23,
   "metadata": {},
   "outputs": [
    {
     "data": {
      "text/html": [
       "<div>\n",
       "<style scoped>\n",
       "    .dataframe tbody tr th:only-of-type {\n",
       "        vertical-align: middle;\n",
       "    }\n",
       "\n",
       "    .dataframe tbody tr th {\n",
       "        vertical-align: top;\n",
       "    }\n",
       "\n",
       "    .dataframe thead th {\n",
       "        text-align: right;\n",
       "    }\n",
       "</style>\n",
       "<table border=\"1\" class=\"dataframe\">\n",
       "  <thead>\n",
       "    <tr style=\"text-align: right;\">\n",
       "      <th></th>\n",
       "      <th>Title</th>\n",
       "      <th>Artist</th>\n",
       "      <th>Country</th>\n",
       "      <th>Company</th>\n",
       "      <th>Price</th>\n",
       "      <th>Year</th>\n",
       "    </tr>\n",
       "  </thead>\n",
       "  <tbody>\n",
       "    <tr>\n",
       "      <th>0</th>\n",
       "      <td>Empire Burlesque</td>\n",
       "      <td>Bob Dylan</td>\n",
       "      <td>USA</td>\n",
       "      <td>Columbia</td>\n",
       "      <td>10.9</td>\n",
       "      <td>1985</td>\n",
       "    </tr>\n",
       "    <tr>\n",
       "      <th>1</th>\n",
       "      <td>Hide your heart</td>\n",
       "      <td>Bonnie Tyler</td>\n",
       "      <td>UK</td>\n",
       "      <td>CBS Records</td>\n",
       "      <td>9.9</td>\n",
       "      <td>1988</td>\n",
       "    </tr>\n",
       "    <tr>\n",
       "      <th>2</th>\n",
       "      <td>Greatest Hits</td>\n",
       "      <td>Dolly Parton</td>\n",
       "      <td>USA</td>\n",
       "      <td>RCA</td>\n",
       "      <td>9.9</td>\n",
       "      <td>1982</td>\n",
       "    </tr>\n",
       "    <tr>\n",
       "      <th>3</th>\n",
       "      <td>Still got the blues</td>\n",
       "      <td>Gary Moore</td>\n",
       "      <td>UK</td>\n",
       "      <td>Virgin records</td>\n",
       "      <td>10.2</td>\n",
       "      <td>1990</td>\n",
       "    </tr>\n",
       "    <tr>\n",
       "      <th>4</th>\n",
       "      <td>Eros</td>\n",
       "      <td>Eros Ramazzotti</td>\n",
       "      <td>EU</td>\n",
       "      <td>BMG</td>\n",
       "      <td>9.9</td>\n",
       "      <td>1997</td>\n",
       "    </tr>\n",
       "    <tr>\n",
       "      <th>5</th>\n",
       "      <td>One night only</td>\n",
       "      <td>Bee Gees</td>\n",
       "      <td>UK</td>\n",
       "      <td>Polydor</td>\n",
       "      <td>10.9</td>\n",
       "      <td>1998</td>\n",
       "    </tr>\n",
       "    <tr>\n",
       "      <th>6</th>\n",
       "      <td>Sylvias Mother</td>\n",
       "      <td>Dr.Hook</td>\n",
       "      <td>UK</td>\n",
       "      <td>CBS</td>\n",
       "      <td>8.1</td>\n",
       "      <td>1973</td>\n",
       "    </tr>\n",
       "    <tr>\n",
       "      <th>7</th>\n",
       "      <td>Maggie May</td>\n",
       "      <td>Rod Stewart</td>\n",
       "      <td>UK</td>\n",
       "      <td>Pickwick</td>\n",
       "      <td>8.5</td>\n",
       "      <td>1990</td>\n",
       "    </tr>\n",
       "    <tr>\n",
       "      <th>8</th>\n",
       "      <td>Romanza</td>\n",
       "      <td>Andrea Bocelli</td>\n",
       "      <td>EU</td>\n",
       "      <td>Polydor</td>\n",
       "      <td>10.8</td>\n",
       "      <td>1996</td>\n",
       "    </tr>\n",
       "    <tr>\n",
       "      <th>9</th>\n",
       "      <td>When a man loves a woman</td>\n",
       "      <td>Percy Sledge</td>\n",
       "      <td>USA</td>\n",
       "      <td>Atlantic</td>\n",
       "      <td>8.7</td>\n",
       "      <td>1987</td>\n",
       "    </tr>\n",
       "  </tbody>\n",
       "</table>\n",
       "</div>"
      ],
      "text/plain": [
       "                      Title           Artist Country         Company  Price  \\\n",
       "0          Empire Burlesque        Bob Dylan     USA        Columbia   10.9   \n",
       "1           Hide your heart     Bonnie Tyler      UK     CBS Records    9.9   \n",
       "2             Greatest Hits     Dolly Parton     USA             RCA    9.9   \n",
       "3       Still got the blues       Gary Moore      UK  Virgin records   10.2   \n",
       "4                      Eros  Eros Ramazzotti      EU             BMG    9.9   \n",
       "5            One night only         Bee Gees      UK         Polydor   10.9   \n",
       "6            Sylvias Mother          Dr.Hook      UK             CBS    8.1   \n",
       "7                Maggie May      Rod Stewart      UK        Pickwick    8.5   \n",
       "8                   Romanza   Andrea Bocelli      EU         Polydor   10.8   \n",
       "9  When a man loves a woman     Percy Sledge     USA        Atlantic    8.7   \n",
       "\n",
       "   Year  \n",
       "0  1985  \n",
       "1  1988  \n",
       "2  1982  \n",
       "3  1990  \n",
       "4  1997  \n",
       "5  1998  \n",
       "6  1973  \n",
       "7  1990  \n",
       "8  1996  \n",
       "9  1987  "
      ]
     },
     "execution_count": 23,
     "metadata": {},
     "output_type": "execute_result"
    }
   ],
   "source": [
    "# Extra out of course scope\n",
    "import pandas as pd\n",
    "\n",
    "df1 = pd.read_csv(\"Files/Session01/XSLT/output01.csv\", sep=\",\")\n",
    "df1.head(10)"
   ]
  },
  {
   "cell_type": "markdown",
   "metadata": {},
   "source": []
  },
  {
   "cell_type": "code",
   "execution_count": null,
   "metadata": {},
   "outputs": [],
   "source": []
  }
 ],
 "metadata": {
  "kernelspec": {
   "display_name": "Python 3",
   "language": "python",
   "name": "python3"
  },
  "language_info": {
   "codemirror_mode": {
    "name": "ipython",
    "version": 3
   },
   "file_extension": ".py",
   "mimetype": "text/x-python",
   "name": "python",
   "nbconvert_exporter": "python",
   "pygments_lexer": "ipython3",
   "version": "3.8.8"
  }
 },
 "nbformat": 4,
 "nbformat_minor": 4
}
