{
 "cells": [
  {
   "cell_type": "markdown",
   "metadata": {},
   "source": [
    "<img src=\"https://drive.google.com/uc?id=1v7YY_rNBU2OMaPnbUGmzaBj3PUeddxrw\" alt=\"ITI MCIT EPITA\" style=\"width: 750px;\"/>\n",
    "\n",
    "___"
   ]
  },
  {
   "cell_type": "markdown",
   "metadata": {},
   "source": [
    "# Data Preparation & Exploration\n",
    "\n",
    "**By**: Mohamed Fouad Fakhruldeen, mohamed.fakhruldeen@epita.fr\n",
    "____\n",
    "\n",
    "## Session 02"
   ]
  },
  {
   "cell_type": "markdown",
   "metadata": {},
   "source": [
    "#### Topics: \n",
    "* Download and open PostgreSQL \n",
    "* Quick overview of DDL \n",
    "* Quick overview of DML \n",
    "* Integration of the Northwind database \n",
    "* Query and extractions on that database \n",
    "* Integration of the results in Orange"
   ]
  },
  {
   "cell_type": "markdown",
   "metadata": {},
   "source": [
    "#### Postgresql installation \n",
    "\n",
    "https://www.postgresql.org/\n",
    "\n",
    "https://www.postgresql.org/download/"
   ]
  },
  {
   "cell_type": "raw",
   "metadata": {},
   "source": [
    "sudo apt install postgresql\n",
    "sudo pg_isready\n",
    "sudo su - postgres\n",
    "psql\n",
    "CREATE USER mohamed WITH PASSWORD 'fakhrulde3n';\n",
    "CREATE DATABASE dataprep;\n",
    "GRANT ALL PRIVILEGES ON DATABASE dataprep to mohamed;\n",
    "\\q"
   ]
  },
  {
   "cell_type": "raw",
   "metadata": {},
   "source": [
    "sudo curl https://www.pgadmin.org/static/packages_pgadmin_org.pub | sudo apt-key add\n",
    "sudo sh -c 'echo \"deb https://ftp.postgresql.org/pub/pgadmin/pgadmin4/apt/$(lsb_release -cs) pgadmin4 main\" > /etc/apt/sources.list.d/pgadmin4.list && apt update'\n",
    "\n",
    "sudo apt install pgadmin4\n",
    "\n",
    "#sudo apt install pgadmin4-desktop\n",
    "# sudo apt install pgadmin4-web \n",
    "\n",
    "# Configure the webserver, if you installed pgadmin4-web:\n",
    "sudo /usr/pgadmin4/bin/setup-web.sh"
   ]
  },
  {
   "cell_type": "markdown",
   "metadata": {},
   "source": [
    "https://www.tecmint.com/install-postgresql-and-pgadmin-in-ubuntu/"
   ]
  }
 ],
 "metadata": {
  "kernelspec": {
   "display_name": "Python 3",
   "language": "python",
   "name": "python3"
  },
  "language_info": {
   "codemirror_mode": {
    "name": "ipython",
    "version": 3
   },
   "file_extension": ".py",
   "mimetype": "text/x-python",
   "name": "python",
   "nbconvert_exporter": "python",
   "pygments_lexer": "ipython3",
   "version": "3.8.8"
  }
 },
 "nbformat": 4,
 "nbformat_minor": 4
}
